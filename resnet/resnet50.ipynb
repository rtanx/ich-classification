{
 "cells": [
  {
   "cell_type": "code",
   "execution_count": 2,
   "metadata": {},
   "outputs": [
    {
     "name": "stdout",
     "output_type": "stream",
     "text": [
      "Tue Nov 12 11:02:44 2024       \n",
      "+-----------------------------------------------------------------------------------------+\n",
      "| NVIDIA-SMI 550.90.07              Driver Version: 550.90.07      CUDA Version: 12.4     |\n",
      "|-----------------------------------------+------------------------+----------------------+\n",
      "| GPU  Name                 Persistence-M | Bus-Id          Disp.A | Volatile Uncorr. ECC |\n",
      "| Fan  Temp   Perf          Pwr:Usage/Cap |           Memory-Usage | GPU-Util  Compute M. |\n",
      "|                                         |                        |               MIG M. |\n",
      "|=========================================+========================+======================|\n",
      "|   0  NVIDIA A100-SXM4-40GB          On  |   00000000:07:00.0 Off |                   On |\n",
      "| N/A   43C    P0            196W /  400W |                  N/A   |     N/A      Default |\n",
      "|                                         |                        |              Enabled |\n",
      "+-----------------------------------------+------------------------+----------------------+\n",
      "\n",
      "+-----------------------------------------------------------------------------------------+\n",
      "| MIG devices:                                                                            |\n",
      "+------------------+----------------------------------+-----------+-----------------------+\n",
      "| GPU  GI  CI  MIG |                     Memory-Usage |        Vol|      Shared           |\n",
      "|      ID  ID  Dev |                       BAR1-Usage | SM     Unc| CE ENC DEC OFA JPG    |\n",
      "|                  |                                  |        ECC|                       |\n",
      "|==================+==================================+===========+=======================|\n",
      "|  0    3   0   0  |              13MiB /  9856MiB    | 14      0 |  1   0    1    0    0 |\n",
      "|                  |                 0MiB / 16383MiB  |           |                       |\n",
      "+------------------+----------------------------------+-----------+-----------------------+\n",
      "                                                                                         \n",
      "+-----------------------------------------------------------------------------------------+\n",
      "| Processes:                                                                              |\n",
      "|  GPU   GI   CI        PID   Type   Process name                              GPU Memory |\n",
      "|        ID   ID                                                               Usage      |\n",
      "|=========================================================================================|\n",
      "|  No running processes found                                                             |\n",
      "+-----------------------------------------------------------------------------------------+\n"
     ]
    }
   ],
   "source": [
    "!nvidia-smi"
   ]
  },
  {
   "cell_type": "code",
   "execution_count": 19,
   "metadata": {},
   "outputs": [],
   "source": [
    "import os\n",
    "\n",
    "import torch\n",
    "from torch import cuda\n",
    "from torchvision.models import resnet50\n",
    "from torch.utils.data import Dataset, DataLoader\n",
    "from torchvision import transforms\n",
    "from torch import nn\n",
    "import numpy as np\n",
    "import pandas as pd\n",
    "import matplotlib.pyplot as plt\n",
    "from PIL import Image\n",
    "import cv2\n",
    "from tqdm import tqdm"
   ]
  },
  {
   "cell_type": "code",
   "execution_count": 4,
   "metadata": {},
   "outputs": [
    {
     "name": "stdout",
     "output_type": "stream",
     "text": [
      "cuda available:  True\n",
      "cuda device count:  1\n",
      "cuda current device:  0\n",
      "cuda device:  <torch.cuda.device object at 0x7fe41f233ac0>\n",
      "cuda device name:  NVIDIA A100-SXM4-40GB MIG 1g.10gb\n"
     ]
    }
   ],
   "source": [
    "torch_device_target = 'cpu'\n",
    "if cuda.is_available():\n",
    "    print('cuda available: ', cuda.is_available())\n",
    "    print('cuda device count: ', cuda.device_count())\n",
    "    print('cuda current device: ', cuda.current_device())\n",
    "    print('cuda device: ', cuda.device(cuda.current_device()))\n",
    "    print('cuda device name: ', cuda.get_device_name(cuda.current_device()))\n",
    "    torch_device_target = 'cuda'\n",
    "else:\n",
    "    print('running with cuda disabled')\n",
    "    \n",
    "device = torch.device(torch_device_target)"
   ]
  },
  {
   "cell_type": "markdown",
   "metadata": {},
   "source": [
    "# Data Preparation"
   ]
  },
  {
   "cell_type": "code",
   "execution_count": 5,
   "metadata": {},
   "outputs": [],
   "source": [
    "ROOT_METADATA_PATH = '/workspace/datasets/train-series-splitted-metadata/'\n",
    "TRAIN_PATH = os.path.join(ROOT_METADATA_PATH, 'train800.csv')\n",
    "TEST_PATH = os.path.join(ROOT_METADATA_PATH, 'test100.csv')\n",
    "VALID_PATH= os.path.join(ROOT_METADATA_PATH, 'valid100.csv')"
   ]
  },
  {
   "cell_type": "code",
   "execution_count": 6,
   "metadata": {},
   "outputs": [],
   "source": [
    "train_df = pd.read_csv(TRAIN_PATH)\n",
    "test_df = pd.read_csv(TEST_PATH)\n",
    "valid_df = pd.read_csv(VALID_PATH)\n",
    "\n",
    "ich_labels = ['any', 'epidural', 'intraparenchymal', 'intraventricular', 'subarachnoid', 'subdural']\n"
   ]
  },
  {
   "cell_type": "code",
   "execution_count": 7,
   "metadata": {},
   "outputs": [
    {
     "data": {
      "text/html": [
       "<div>\n",
       "<style scoped>\n",
       "    .dataframe tbody tr th:only-of-type {\n",
       "        vertical-align: middle;\n",
       "    }\n",
       "\n",
       "    .dataframe tbody tr th {\n",
       "        vertical-align: top;\n",
       "    }\n",
       "\n",
       "    .dataframe thead th {\n",
       "        text-align: right;\n",
       "    }\n",
       "</style>\n",
       "<table border=\"1\" class=\"dataframe\">\n",
       "  <thead>\n",
       "    <tr style=\"text-align: right;\">\n",
       "      <th></th>\n",
       "      <th>Image</th>\n",
       "      <th>any</th>\n",
       "      <th>epidural</th>\n",
       "      <th>intraparenchymal</th>\n",
       "      <th>intraventricular</th>\n",
       "      <th>subarachnoid</th>\n",
       "      <th>subdural</th>\n",
       "      <th>PatientID</th>\n",
       "      <th>StudyInstanceUID</th>\n",
       "      <th>SeriesInstanceUID</th>\n",
       "      <th>ImagePositionPatient</th>\n",
       "      <th>ImageId</th>\n",
       "      <th>ImagePositionSpan</th>\n",
       "    </tr>\n",
       "  </thead>\n",
       "  <tbody>\n",
       "    <tr>\n",
       "      <th>0</th>\n",
       "      <td>ID_00008ce3c</td>\n",
       "      <td>0</td>\n",
       "      <td>0</td>\n",
       "      <td>0</td>\n",
       "      <td>0</td>\n",
       "      <td>0</td>\n",
       "      <td>0</td>\n",
       "      <td>ID_ce8a3cd2</td>\n",
       "      <td>ID_974735bf79</td>\n",
       "      <td>ID_3780d48b28</td>\n",
       "      <td>['-125', '-83.0468112', '175.995344']</td>\n",
       "      <td>ID_00008ce3c</td>\n",
       "      <td>175.995344</td>\n",
       "    </tr>\n",
       "    <tr>\n",
       "      <th>1</th>\n",
       "      <td>ID_000259ccf</td>\n",
       "      <td>0</td>\n",
       "      <td>0</td>\n",
       "      <td>0</td>\n",
       "      <td>0</td>\n",
       "      <td>0</td>\n",
       "      <td>0</td>\n",
       "      <td>ID_ee4d05e4</td>\n",
       "      <td>ID_127d3011a5</td>\n",
       "      <td>ID_6254afb327</td>\n",
       "      <td>['-125.000', '-121.815', '187.706']</td>\n",
       "      <td>ID_000259ccf</td>\n",
       "      <td>187.706000</td>\n",
       "    </tr>\n",
       "    <tr>\n",
       "      <th>2</th>\n",
       "      <td>ID_000457398</td>\n",
       "      <td>0</td>\n",
       "      <td>0</td>\n",
       "      <td>0</td>\n",
       "      <td>0</td>\n",
       "      <td>0</td>\n",
       "      <td>0</td>\n",
       "      <td>ID_34fffd88</td>\n",
       "      <td>ID_72c127d025</td>\n",
       "      <td>ID_5ad9e0e469</td>\n",
       "      <td>['-126.437378', '-126.437378', '62.500000']</td>\n",
       "      <td>ID_000457398</td>\n",
       "      <td>62.500000</td>\n",
       "    </tr>\n",
       "    <tr>\n",
       "      <th>3</th>\n",
       "      <td>ID_0005de569</td>\n",
       "      <td>0</td>\n",
       "      <td>0</td>\n",
       "      <td>0</td>\n",
       "      <td>0</td>\n",
       "      <td>0</td>\n",
       "      <td>0</td>\n",
       "      <td>ID_7ab6d7df</td>\n",
       "      <td>ID_b4d83b111f</td>\n",
       "      <td>ID_16801bed0a</td>\n",
       "      <td>['-125.000', '-97.286', '-1.590']</td>\n",
       "      <td>ID_0005de569</td>\n",
       "      <td>-1.590000</td>\n",
       "    </tr>\n",
       "    <tr>\n",
       "      <th>4</th>\n",
       "      <td>ID_0006441d0</td>\n",
       "      <td>0</td>\n",
       "      <td>0</td>\n",
       "      <td>0</td>\n",
       "      <td>0</td>\n",
       "      <td>0</td>\n",
       "      <td>0</td>\n",
       "      <td>ID_4681a956</td>\n",
       "      <td>ID_5b133aa2c0</td>\n",
       "      <td>ID_a9000bdf3b</td>\n",
       "      <td>['-125.000000', '-122.597977', '177.810806']</td>\n",
       "      <td>ID_0006441d0</td>\n",
       "      <td>177.810806</td>\n",
       "    </tr>\n",
       "    <tr>\n",
       "      <th>...</th>\n",
       "      <td>...</td>\n",
       "      <td>...</td>\n",
       "      <td>...</td>\n",
       "      <td>...</td>\n",
       "      <td>...</td>\n",
       "      <td>...</td>\n",
       "      <td>...</td>\n",
       "      <td>...</td>\n",
       "      <td>...</td>\n",
       "      <td>...</td>\n",
       "      <td>...</td>\n",
       "      <td>...</td>\n",
       "      <td>...</td>\n",
       "    </tr>\n",
       "    <tr>\n",
       "      <th>27166</th>\n",
       "      <td>ID_fffc1b4a8</td>\n",
       "      <td>0</td>\n",
       "      <td>0</td>\n",
       "      <td>0</td>\n",
       "      <td>0</td>\n",
       "      <td>0</td>\n",
       "      <td>0</td>\n",
       "      <td>ID_f5ac09ac</td>\n",
       "      <td>ID_906e006b9f</td>\n",
       "      <td>ID_2f58ba6ff8</td>\n",
       "      <td>['-125', '6', '112.799988']</td>\n",
       "      <td>ID_fffc1b4a8</td>\n",
       "      <td>112.799988</td>\n",
       "    </tr>\n",
       "    <tr>\n",
       "      <th>27167</th>\n",
       "      <td>ID_fffdd6240</td>\n",
       "      <td>0</td>\n",
       "      <td>0</td>\n",
       "      <td>0</td>\n",
       "      <td>0</td>\n",
       "      <td>0</td>\n",
       "      <td>0</td>\n",
       "      <td>ID_2378f0b7</td>\n",
       "      <td>ID_831a4f4f7d</td>\n",
       "      <td>ID_d91562c643</td>\n",
       "      <td>['-125.000', '-102.398', '156.077']</td>\n",
       "      <td>ID_fffdd6240</td>\n",
       "      <td>156.077000</td>\n",
       "    </tr>\n",
       "    <tr>\n",
       "      <th>27168</th>\n",
       "      <td>ID_fffecf238</td>\n",
       "      <td>0</td>\n",
       "      <td>0</td>\n",
       "      <td>0</td>\n",
       "      <td>0</td>\n",
       "      <td>0</td>\n",
       "      <td>0</td>\n",
       "      <td>ID_33e26eaf</td>\n",
       "      <td>ID_106dc48992</td>\n",
       "      <td>ID_7b296147d3</td>\n",
       "      <td>['-125', '-10', '207']</td>\n",
       "      <td>ID_fffecf238</td>\n",
       "      <td>207.000000</td>\n",
       "    </tr>\n",
       "    <tr>\n",
       "      <th>27169</th>\n",
       "      <td>ID_ffff922b9</td>\n",
       "      <td>1</td>\n",
       "      <td>0</td>\n",
       "      <td>0</td>\n",
       "      <td>1</td>\n",
       "      <td>0</td>\n",
       "      <td>0</td>\n",
       "      <td>ID_5964c5e5</td>\n",
       "      <td>ID_b47ca0ad05</td>\n",
       "      <td>ID_6d2a9b2810</td>\n",
       "      <td>['-126.408875', '-126.408875', '-235.611511']</td>\n",
       "      <td>ID_ffff922b9</td>\n",
       "      <td>-235.611511</td>\n",
       "    </tr>\n",
       "    <tr>\n",
       "      <th>27170</th>\n",
       "      <td>ID_ffffb670a</td>\n",
       "      <td>1</td>\n",
       "      <td>0</td>\n",
       "      <td>0</td>\n",
       "      <td>0</td>\n",
       "      <td>1</td>\n",
       "      <td>0</td>\n",
       "      <td>ID_4f7414e4</td>\n",
       "      <td>ID_ffb2e70ba3</td>\n",
       "      <td>ID_87b33b4a10</td>\n",
       "      <td>['-125.000', '-133.686', '4.725']</td>\n",
       "      <td>ID_ffffb670a</td>\n",
       "      <td>4.725000</td>\n",
       "    </tr>\n",
       "  </tbody>\n",
       "</table>\n",
       "<p>27171 rows × 13 columns</p>\n",
       "</div>"
      ],
      "text/plain": [
       "              Image  any  epidural  intraparenchymal  intraventricular  \\\n",
       "0      ID_00008ce3c    0         0                 0                 0   \n",
       "1      ID_000259ccf    0         0                 0                 0   \n",
       "2      ID_000457398    0         0                 0                 0   \n",
       "3      ID_0005de569    0         0                 0                 0   \n",
       "4      ID_0006441d0    0         0                 0                 0   \n",
       "...             ...  ...       ...               ...               ...   \n",
       "27166  ID_fffc1b4a8    0         0                 0                 0   \n",
       "27167  ID_fffdd6240    0         0                 0                 0   \n",
       "27168  ID_fffecf238    0         0                 0                 0   \n",
       "27169  ID_ffff922b9    1         0                 0                 1   \n",
       "27170  ID_ffffb670a    1         0                 0                 0   \n",
       "\n",
       "       subarachnoid  subdural    PatientID StudyInstanceUID SeriesInstanceUID  \\\n",
       "0                 0         0  ID_ce8a3cd2    ID_974735bf79     ID_3780d48b28   \n",
       "1                 0         0  ID_ee4d05e4    ID_127d3011a5     ID_6254afb327   \n",
       "2                 0         0  ID_34fffd88    ID_72c127d025     ID_5ad9e0e469   \n",
       "3                 0         0  ID_7ab6d7df    ID_b4d83b111f     ID_16801bed0a   \n",
       "4                 0         0  ID_4681a956    ID_5b133aa2c0     ID_a9000bdf3b   \n",
       "...             ...       ...          ...              ...               ...   \n",
       "27166             0         0  ID_f5ac09ac    ID_906e006b9f     ID_2f58ba6ff8   \n",
       "27167             0         0  ID_2378f0b7    ID_831a4f4f7d     ID_d91562c643   \n",
       "27168             0         0  ID_33e26eaf    ID_106dc48992     ID_7b296147d3   \n",
       "27169             0         0  ID_5964c5e5    ID_b47ca0ad05     ID_6d2a9b2810   \n",
       "27170             1         0  ID_4f7414e4    ID_ffb2e70ba3     ID_87b33b4a10   \n",
       "\n",
       "                                ImagePositionPatient       ImageId  \\\n",
       "0              ['-125', '-83.0468112', '175.995344']  ID_00008ce3c   \n",
       "1                ['-125.000', '-121.815', '187.706']  ID_000259ccf   \n",
       "2        ['-126.437378', '-126.437378', '62.500000']  ID_000457398   \n",
       "3                  ['-125.000', '-97.286', '-1.590']  ID_0005de569   \n",
       "4       ['-125.000000', '-122.597977', '177.810806']  ID_0006441d0   \n",
       "...                                              ...           ...   \n",
       "27166                    ['-125', '6', '112.799988']  ID_fffc1b4a8   \n",
       "27167            ['-125.000', '-102.398', '156.077']  ID_fffdd6240   \n",
       "27168                         ['-125', '-10', '207']  ID_fffecf238   \n",
       "27169  ['-126.408875', '-126.408875', '-235.611511']  ID_ffff922b9   \n",
       "27170              ['-125.000', '-133.686', '4.725']  ID_ffffb670a   \n",
       "\n",
       "       ImagePositionSpan  \n",
       "0             175.995344  \n",
       "1             187.706000  \n",
       "2              62.500000  \n",
       "3              -1.590000  \n",
       "4             177.810806  \n",
       "...                  ...  \n",
       "27166         112.799988  \n",
       "27167         156.077000  \n",
       "27168         207.000000  \n",
       "27169        -235.611511  \n",
       "27170           4.725000  \n",
       "\n",
       "[27171 rows x 13 columns]"
      ]
     },
     "execution_count": 7,
     "metadata": {},
     "output_type": "execute_result"
    }
   ],
   "source": [
    "train_df"
   ]
  },
  {
   "cell_type": "code",
   "execution_count": 8,
   "metadata": {},
   "outputs": [],
   "source": [
    "# train_df.iloc[700][ich_labels].values.astype(np.int32)"
   ]
  },
  {
   "cell_type": "code",
   "execution_count": 9,
   "metadata": {},
   "outputs": [],
   "source": [
    "class ICHSinogramDataset(Dataset):\n",
    "    def __init__(self, metadata, image_dir, transform=None):\n",
    "      self.metadata = metadata\n",
    "      self.image_dir = image_dir\n",
    "      self.transform = transform\n",
    "      \n",
    "    def __len__(self):\n",
    "      return len(self.metadata)\n",
    "    \n",
    "    def __getitem__(self, idx):\n",
    "      row = self.metadata.iloc[idx]\n",
    "      img_path =  os.path.join(self.image_dir, f\"{row['Image']}.npy\")\n",
    "      img_arr = np.load(img_path)\n",
    "      img_arr = np.squeeze(img_arr)\n",
    "      # img_arr = np.clip(img_arr, 0, 1)\n",
    "      img_arr = np.stack([img_arr.copy() for _ in range(3)], axis=-1)\n",
    "      if self.transform:\n",
    "        img_arr = self.transform(img_arr)\n",
    "          \n",
    "      labels = torch.from_numpy(row[ich_labels].values.astype(np.int32))\n",
    "      \n",
    "      return img_arr, labels"
   ]
  },
  {
   "cell_type": "code",
   "execution_count": 10,
   "metadata": {},
   "outputs": [],
   "source": [
    "transform = transforms.Compose([\n",
    "    transforms.ToTensor(),\n",
    "    transforms.Resize((224, 224)),\n",
    "    transforms.Normalize(mean=[0.485, 0.456, 0.406], std=[0.229, 0.224, 0.225])\n",
    "])"
   ]
  },
  {
   "cell_type": "code",
   "execution_count": 11,
   "metadata": {},
   "outputs": [],
   "source": [
    "img_dir = '/workspace/datasets/processed/sinograms'\n",
    "train_dataset = ICHSinogramDataset(metadata=train_df, image_dir=img_dir, transform=transform)\n",
    "test_dataset = ICHSinogramDataset(metadata=test_df, image_dir=img_dir, transform=transform)\n",
    "\n",
    "train_loader = DataLoader(train_dataset, batch_size=32, shuffle=True, num_workers=4)\n",
    "test_loader = DataLoader(train_dataset, batch_size=32, shuffle=False, num_workers=4)\n",
    "\n"
   ]
  },
  {
   "cell_type": "code",
   "execution_count": 12,
   "metadata": {},
   "outputs": [],
   "source": [
    "# s = np.load(os.path.join(img_dir,f\"{train_df['Image'][0]}.npy\"))\n",
    "# s = np.squeeze(s)\n",
    "# s = np.clip(s,0,1)\n",
    "# s = np.stack((s,)*3, axis=-1)\n",
    "# s.shape"
   ]
  },
  {
   "cell_type": "code",
   "execution_count": 13,
   "metadata": {},
   "outputs": [
    {
     "name": "stdout",
     "output_type": "stream",
     "text": [
      "Batch of images:  torch.Size([32, 3, 224, 224])\n",
      "Batch of labels:  torch.Size([32, 6])\n"
     ]
    }
   ],
   "source": [
    "images, labels = next(iter(train_loader))\n",
    "print(\"Batch of images: \", images.shape)\n",
    "print(\"Batch of labels: \", labels.shape)\n"
   ]
  },
  {
   "cell_type": "code",
   "execution_count": 14,
   "metadata": {},
   "outputs": [],
   "source": [
    "class ICHResNet50(nn.Module):\n",
    "    def __init__(self, num_classes=6):\n",
    "        super(ICHResNet50, self).__init__()\n",
    "        self.resnet = resnet50(weights=None)\n",
    "        self.in_features = self.resnet.fc.in_features\n",
    "        self.resnet.fc = nn.Linear(self.in_features, num_classes)\n",
    "      \n",
    "    def forward(self, x):\n",
    "        return self.resnet(x)"
   ]
  },
  {
   "cell_type": "code",
   "execution_count": 15,
   "metadata": {},
   "outputs": [],
   "source": [
    "model = ICHResNet50(num_classes=6).cuda()\n",
    "eta = 0.00005\n",
    "num_epochs = 10\n",
    "optimizer = torch.optim.Adam(model.parameters(), lr=eta)\n",
    "\n",
    "epoch_train_loss = []"
   ]
  },
  {
   "cell_type": "code",
   "execution_count": 20,
   "metadata": {},
   "outputs": [
    {
     "name": "stderr",
     "output_type": "stream",
     "text": [
      "                                                                                                               \r"
     ]
    },
    {
     "name": "stdout",
     "output_type": "stream",
     "text": [
      "Train Epoch: 1/10\tTrain Loss: 0.305005\n"
     ]
    },
    {
     "name": "stderr",
     "output_type": "stream",
     "text": [
      "                                                                                                               \r"
     ]
    },
    {
     "name": "stdout",
     "output_type": "stream",
     "text": [
      "Train Epoch: 2/10\tTrain Loss: 0.285079\n"
     ]
    },
    {
     "name": "stderr",
     "output_type": "stream",
     "text": [
      "                                                                                                               \r"
     ]
    },
    {
     "name": "stdout",
     "output_type": "stream",
     "text": [
      "Train Epoch: 3/10\tTrain Loss: 0.276053\n"
     ]
    },
    {
     "name": "stderr",
     "output_type": "stream",
     "text": [
      "                                                                                                               \r"
     ]
    },
    {
     "name": "stdout",
     "output_type": "stream",
     "text": [
      "Train Epoch: 4/10\tTrain Loss: 0.266524\n"
     ]
    },
    {
     "name": "stderr",
     "output_type": "stream",
     "text": [
      "                                                                                                               \r"
     ]
    },
    {
     "name": "stdout",
     "output_type": "stream",
     "text": [
      "Train Epoch: 5/10\tTrain Loss: 0.255053\n"
     ]
    },
    {
     "name": "stderr",
     "output_type": "stream",
     "text": [
      "                                                                                                               \r"
     ]
    },
    {
     "name": "stdout",
     "output_type": "stream",
     "text": [
      "Train Epoch: 6/10\tTrain Loss: 0.241418\n"
     ]
    },
    {
     "name": "stderr",
     "output_type": "stream",
     "text": [
      "                                                                                                               \r"
     ]
    },
    {
     "name": "stdout",
     "output_type": "stream",
     "text": [
      "Train Epoch: 7/10\tTrain Loss: 0.220991\n"
     ]
    },
    {
     "name": "stderr",
     "output_type": "stream",
     "text": [
      "                                                                                                               \r"
     ]
    },
    {
     "name": "stdout",
     "output_type": "stream",
     "text": [
      "Train Epoch: 8/10\tTrain Loss: 0.192699\n"
     ]
    },
    {
     "name": "stderr",
     "output_type": "stream",
     "text": [
      "                                                                                                               \r"
     ]
    },
    {
     "name": "stdout",
     "output_type": "stream",
     "text": [
      "Train Epoch: 9/10\tTrain Loss: 0.161671\n"
     ]
    },
    {
     "name": "stderr",
     "output_type": "stream",
     "text": [
      "                                                                                                               "
     ]
    },
    {
     "name": "stdout",
     "output_type": "stream",
     "text": [
      "Train Epoch: 10/10\tTrain Loss: 0.130559\n"
     ]
    },
    {
     "name": "stderr",
     "output_type": "stream",
     "text": [
      "\r"
     ]
    }
   ],
   "source": [
    "for epoch in range(num_epochs):\n",
    "    train_losses = []\n",
    "    model.train()\n",
    "    \n",
    "    # Wrap train_loader with tqdm\n",
    "    for images, labels in tqdm(train_loader, desc=f'Epoch {epoch+1}/{num_epochs}', leave=False):\n",
    "        optimizer.zero_grad()\n",
    "        \n",
    "        # Move data and labels to GPU\n",
    "        data = images.float().cuda()\n",
    "        labels = labels.float().cuda()\n",
    "        \n",
    "        # Forward pass\n",
    "        y_hat = model(data)\n",
    "        error = nn.BCEWithLogitsLoss()\n",
    "        loss = error(y_hat, labels)\n",
    "        \n",
    "        # Backward pass and optimization\n",
    "        loss.backward()\n",
    "        optimizer.step()\n",
    "        \n",
    "        train_losses.append(loss.item())\n",
    "        \n",
    "    # Calculate and print epoch loss\n",
    "    epoch_loss = np.mean(train_losses)\n",
    "    epoch_train_loss.append(epoch_loss)\n",
    "    print(f'Train Epoch: {epoch+1}/{num_epochs}\\tTrain Loss: {epoch_loss:.6f}')"
   ]
  },
  {
   "cell_type": "code",
   "execution_count": null,
   "metadata": {},
   "outputs": [],
   "source": []
  }
 ],
 "metadata": {
  "kernelspec": {
   "display_name": "capstone",
   "language": "python",
   "name": "capstone"
  }
 },
 "nbformat": 4,
 "nbformat_minor": 2
}
