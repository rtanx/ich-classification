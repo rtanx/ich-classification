{
 "cells": [
  {
   "cell_type": "code",
   "execution_count": 46,
   "metadata": {},
   "outputs": [],
   "source": [
    "from __future__ import absolute_import\n",
    "from __future__ import division\n",
    "from __future__ import print_function\n",
    "\n",
    "import optparse\n",
    "import os, sys\n",
    "import numpy as np \n",
    "import pandas as pd\n",
    "from PIL import Image\n",
    "import pydicom\n",
    "from typing import Union, Tuple\n",
    "\n",
    "import torch\n",
    "import torchvision\n",
    "import cv2\n",
    "import torch.optim as optim\n",
    "from torch.optim.lr_scheduler import _LRScheduler\n",
    "from torch.optim.lr_scheduler import ReduceLROnPlateau\n",
    "import torch.nn as nn\n",
    "import torch.nn.functional as F\n",
    "from sklearn.model_selection import KFold\n",
    "\n",
    "from albumentations import Compose, ShiftScaleRotate, Resize\n",
    "from albumentations.pytorch import ToTensorV2 as ToTensor\n",
    "from torch.utils.data import Dataset\n",
    "from sklearn.metrics import log_loss\n",
    "from torch.utils.data import DataLoader\n",
    "\n",
    "from torchvision import transforms as T\n",
    "from torchvision.models.resnet import ResNet, Bottleneck\n",
    "from torch.hub import load_state_dict_from_url\n",
    "from torchvision.models.resnet import ResNet, Bottleneck"
   ]
  },
  {
   "cell_type": "code",
   "execution_count": 20,
   "metadata": {},
   "outputs": [],
   "source": [
    "from albumentations import (Compose, Normalize, RandomRotate90, HorizontalFlip,\n",
    "                           VerticalFlip, ShiftScaleRotate, Transpose, OneOf,\n",
    "                           GaussNoise, RandomGamma, HueSaturationValue,\n",
    "                           RandomBrightnessContrast, Lambda, NoOp, CenterCrop, Resize\n",
    "                           )\n",
    "\n",
    "from tqdm import tqdm"
   ]
  },
  {
   "cell_type": "code",
   "execution_count": 36,
   "metadata": {},
   "outputs": [],
   "source": [
    "#--------------------- for working with directory ----------------------------\n",
    "ROOT_DATA_PATH='/workspace/datasets'\n",
    "DATASET_PATH=f'{ROOT_DATA_PATH}/rsna-intracranial-hemorrhage-detection/rsna-intracranial-hemorrhage-detection'\n",
    "TRAIN_DATA_PATH=f'{DATASET_PATH}/stage_2_train'\n",
    "TEST_DATA_PATH=f'{DATASET_PATH}/stage_2_test'\n",
    "TRAIN_METADATA_PATH=f'{DATASET_PATH}/stage_2_train.csv'\n",
    "TEST_METADATA_PATH=f'{DATASET_PATH}/stage_2_sample_submission.csv'\n",
    "\n",
    "TRAIN_METADATA_SEQ_PATH=f'{ROOT_DATA_PATH}/rsna-intracranial-sequence-metadata/train_metadata_noidx.csv'\n",
    "TEST_METADATA_SEQ_PATH=f'{ROOT_DATA_PATH}/rsna-intracranial-sequence-metadata/test_metadata_noidx.csv'"
   ]
  },
  {
   "cell_type": "code",
   "execution_count": null,
   "metadata": {},
   "outputs": [],
   "source": [
    "class ImagePreparationUtil:\n",
    "    @staticmethod\n",
    "    def correct_dcm(dcm: pydicom.FileDataset):\n",
    "        x = dcm.pixel_array\n",
    "        x = x + 1000\n",
    "        px_mode = 4096\n",
    "        x[x >= px_mode] = x[x >= px_mode] - px_mode\n",
    "        dcm.PixelData = x.tobytes()\n",
    "        dcm.RescaleIntercept = -1000\n",
    "        \n",
    "    @staticmethod\n",
    "    def window_image(dcm: pydicom.FileDataset, window_center: int, window_width: int):\n",
    "        if (dcm.BitsStored == 12) and (dcm.PixelRepresentation == 0) and (int(dcm.RescaleIntercept) > -100):\n",
    "            ImagePreparationUtil.correct_dcm(dcm)\n",
    "        \n",
    "        # Pixel to Hounsfield Unit (HU)\n",
    "        # HU=(Pixel Value×RescaleSlope)+RescaleIntercept\n",
    "        img = dcm.pixel_array\n",
    "        img = img * dcm.RescaleSlope + dcm.RescaleIntercept \n",
    "        img_min = window_center - window_width // 2\n",
    "        img_max = window_center + window_width // 2\n",
    "        img = np.clip(img, img_min, img_max)\n",
    "        \n",
    "        return img\n",
    "    \n",
    "    @staticmethod\n",
    "    def get_windowed_image(dcm: pydicom.FileDataset, window: Union['brain', 'subdural', 'soft'] = 'brain') -> np.ndarray: # type: ignore\n",
    "        im = None\n",
    "        match window:\n",
    "            case 'brain':\n",
    "                brain_img = ImagePreparationUtil.window_image(dcm, 40, 80)\n",
    "                brain_img = (brain_img - 0) / 80\n",
    "                im = brain_img\n",
    "            case 'subdural':\n",
    "                subdural_img = ImagePreparationUtil.window_image(dcm, 80, 200)\n",
    "                subdural_img = (subdural_img - (-20)) / 200\n",
    "                im = subdural_img\n",
    "            case 'soft':\n",
    "                soft_img = ImagePreparationUtil.window_image(dcm, 40, 380)\n",
    "                soft_img = (soft_img - (-150)) / 380\n",
    "                im = soft_img\n",
    "            case _:\n",
    "                raise ValueError('invalid window argument')\n",
    "        \n",
    "        return im\n",
    "    \n",
    "    @staticmethod\n",
    "    def bsb_window(dcm):\n",
    "        brain_img = ImagePreparationUtil.get_windowed_image(dcm, window='brain')\n",
    "        subdural_img = ImagePreparationUtil.get_windowed_image(dcm, window='subdural')\n",
    "        soft_img = ImagePreparationUtil.get_windowed_image(dcm, window='soft')\n",
    "\n",
    "        bsb_img = np.array([brain_img, subdural_img, soft_img]).transpose(1,2,0)\n",
    "\n",
    "        return bsb_img\n",
    "    \n",
    "    @staticmethod\n",
    "    def read(path, resize: Tuple[int, int]):\n",
    "        img = None\n",
    "        try:\n",
    "            dcm = pydicom.dcmread(path)\n",
    "            img = ImagePreparationUtil.bsb_window(dcm)\n",
    "        except Exception as e:\n",
    "            print('\\nWarning:', e.__class__.__name__, f'for {path} Replacing with zeros image')\n",
    "            img = np.zeros((*tuple(resize[:2]), 3), dtype=np.float32)\n",
    "        \n",
    "        if resize is not None:\n",
    "            img = cv2.resize(img, resize[:2], interpolation=cv2.INTER_LINEAR)\n",
    "            \n",
    "        return img.astype(np.float32)"
   ]
  },
  {
   "cell_type": "code",
   "execution_count": 37,
   "metadata": {},
   "outputs": [],
   "source": [
    "class Identity(nn.Module):\n",
    "    def __init__(self):\n",
    "        super(Identity, self).__init__()\n",
    "    \n",
    "    def forward(self, x):\n",
    "        return x"
   ]
  },
  {
   "cell_type": "code",
   "execution_count": 38,
   "metadata": {},
   "outputs": [],
   "source": [
    "class IntracranialDataset(Dataset):\n",
    "    def __init__(self, df, path, labels, transform=None):\n",
    "        self.data = df\n",
    "        self.path = path\n",
    "        self.transform = transform\n",
    "        self.labels = labels\n",
    "        \n",
    "    def __len__(self):\n",
    "        return len(self.data)\n",
    "    \n",
    "    def __getitem__(self, idx):\n",
    "        img_name = os.path.join(self.path, self.data.loc[idx, 'Image'] + '.dcm')"
   ]
  },
  {
   "cell_type": "code",
   "execution_count": 39,
   "metadata": {},
   "outputs": [],
   "source": [
    "os.makedirs('resnext-lstm', exist_ok=True)"
   ]
  },
  {
   "cell_type": "code",
   "execution_count": 40,
   "metadata": {},
   "outputs": [
    {
     "name": "stderr",
     "output_type": "stream",
     "text": [
      "Using cache found in /root/.cache/torch/hub/facebookresearch_WSL-Images_main\n"
     ]
    }
   ],
   "source": [
    "model = torch.hub.load('facebookresearch/WSL-Images', 'resnext101_32x8d_wsl')\n",
    "torch.save(model, 'resnext-lstm/resnext101_32x8d_wsl_checkpoint.pth')\n"
   ]
  },
  {
   "cell_type": "code",
   "execution_count": 41,
   "metadata": {},
   "outputs": [],
   "source": [
    "n_classes = 6\n",
    "label_cols = ['epidural', 'intraparenchymal', 'intraventricular', 'subarachnoid', 'subdural', 'any']"
   ]
  },
  {
   "cell_type": "code",
   "execution_count": 42,
   "metadata": {},
   "outputs": [
    {
     "name": "stderr",
     "output_type": "stream",
     "text": [
      "/tmp/ipykernel_16303/15926747.py:1: FutureWarning: You are using `torch.load` with `weights_only=False` (the current default value), which uses the default pickle module implicitly. It is possible to construct malicious pickle data which will execute arbitrary code during unpickling (See https://github.com/pytorch/pytorch/blob/main/SECURITY.md#untrusted-models for more details). In a future release, the default value for `weights_only` will be flipped to `True`. This limits the functions that could be executed during unpickling. Arbitrary objects will no longer be allowed to be loaded via this mode unless they are explicitly allowlisted by the user via `torch.serialization.add_safe_globals`. We recommend you start setting `weights_only=True` for any use case where you don't have full control of the loaded file. Please open an issue on GitHub for any issues related to this experimental feature.\n",
      "  model = torch.load('resnext-lstm/resnext101_32x8d_wsl_checkpoint.pth')\n"
     ]
    }
   ],
   "source": [
    "model = torch.load('resnext-lstm/resnext101_32x8d_wsl_checkpoint.pth')\n",
    "model.fc = nn.Linear(2048, n_classes)"
   ]
  },
  {
   "cell_type": "code",
   "execution_count": null,
   "metadata": {},
   "outputs": [],
   "source": []
  }
 ],
 "metadata": {
  "kernelspec": {
   "display_name": "capstone-torch",
   "language": "python",
   "name": "capstone-torch"
  },
  "language_info": {
   "codemirror_mode": {
    "name": "ipython",
    "version": 3
   },
   "file_extension": ".py",
   "mimetype": "text/x-python",
   "name": "python",
   "nbconvert_exporter": "python",
   "pygments_lexer": "ipython3",
   "version": "3.10.13"
  }
 },
 "nbformat": 4,
 "nbformat_minor": 2
}
